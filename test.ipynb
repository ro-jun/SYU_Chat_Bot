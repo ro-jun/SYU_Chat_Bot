{
 "cells": [
  {
   "cell_type": "code",
   "execution_count": null,
   "metadata": {},
   "outputs": [],
   "source": [
    "# 1. 환경 설정 테스트\n",
    "from config import os\n",
    "print(f\"OpenAI API Key: {os.getenv('OPENAI_API_KEY')}\")\n",
    "print(f\"Pinecone API Key: {os.getenv('PINECONE_API_KEY')}\")"
   ]
  },
  {
   "cell_type": "code",
   "execution_count": null,
   "metadata": {},
   "outputs": [],
   "source": [
    "# 2. 벡터 DB 테스트\n",
    "from vector_db_setup import vectorstore\n",
    "retriever = vectorstore.as_retriever(search_type=\"similarity\", search_kwargs={\"k\": 3})\n",
    "query = \"객체지향 프로그래밍이 무엇인가요?\"\n",
    "docs = retriever.get_relevant_documents(query)\n",
    "for doc in docs:\n",
    "    print(doc.page_content)"
   ]
  },
  {
   "cell_type": "code",
   "execution_count": null,
   "metadata": {},
   "outputs": [],
   "source": [
    "# 3. LLM 테스트\n",
    "from llm_setup import conversation_chain\n",
    "response = conversation_chain.run(\"객체지향 프로그래밍은 무엇인가요?\")\n",
    "print(response)"
   ]
  },
  {
   "cell_type": "code",
   "execution_count": null,
   "metadata": {},
   "outputs": [],
   "source": [
    "# 4. PDF 요약 테스트\n",
    "from pdf_processing import pdf_bot_chatbot\n",
    "pdf_file_path = \"path_to_test_pdf.pdf\"  # 테스트용 PDF 경로\n",
    "summary = pdf_bot_chatbot(pdf_file_path, default_prompt)\n",
    "print(summary)\n"
   ]
  },
  {
   "cell_type": "code",
   "execution_count": null,
   "metadata": {},
   "outputs": [],
   "source": [
    "# 5. Gradio 실행 테스트\n",
    "!python gradio_ui.py"
   ]
  }
 ],
 "metadata": {
  "kernelspec": {
   "display_name": "SYU_CHAT_BOT",
   "language": "python",
   "name": "python3"
  },
  "language_info": {
   "name": "python",
   "version": "3.11.9"
  }
 },
 "nbformat": 4,
 "nbformat_minor": 2
}
